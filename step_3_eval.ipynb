{
 "cells": [
  {
   "cell_type": "markdown",
   "metadata": {},
   "source": [
    "# Experiment Notebook - Test Evaluation\n",
    "This notebook will illustrate how to evaluate the results of a Test Run"
   ]
  },
  {
   "cell_type": "code",
   "execution_count": null,
   "metadata": {},
   "outputs": [],
   "source": [
    "import sqlite3\n",
    "# Create a connection to the database\n",
    "db_connection = sqlite3.connect('experiment.db')\n"
   ]
  },
  {
   "cell_type": "code",
   "execution_count": null,
   "metadata": {},
   "outputs": [],
   "source": [
    "# Load the test run\n",
    "from packages.data.src.eval_data.models.testrun import TestRunModel, TestRunType\n",
    "\n",
    "test_run = TestRunModel(db_connection).get_test_run_by_name(description=\"Test Run 4\")\n",
    "print(f\"Test Run found with ID: {test_run.id}\")"
   ]
  },
  {
   "cell_type": "markdown",
   "metadata": {},
   "source": [
    "## - Setting up Evaluation Functions\n",
    "In order to evaluate a test, we need to create library of functions that will evalute the responses. We can then assign these Evaluation Functions to different test runs.\n",
    "\n",
    "The following will create a map of Evaluation Functions"
   ]
  },
  {
   "cell_type": "code",
   "execution_count": null,
   "metadata": {},
   "outputs": [],
   "source": [
    "from packages.data.src.eval_data.models.evalfunction import EvalFunctionModel, EvalFunctionType\n",
    "from eval_functions import eval_ragas_precision, eval_ragas_recall, eval_ragas_answer_relevancy, eval_ragas_faithfulness\n",
    "\n",
    "# Create Test Evals\n",
    "eval_function_model = EvalFunctionModel(db_connection)\n",
    "eval_function_list = [\n",
    "    eval_function_model.add_or_get_eval_function(\n",
    "        EvalFunctionType(\n",
    "            name=\"ragas-precision\", \n",
    "            description=\"Ragas - Context precision\", \n",
    "            eval_function=eval_ragas_precision)\n",
    "    ),\n",
    "    eval_function_model.add_or_get_eval_function(\n",
    "        EvalFunctionType(\n",
    "            name=\"ragas-recall\", \n",
    "            description=\"Ragas - Context recall\",\n",
    "            eval_function=eval_ragas_recall)\n",
    "    ),\n",
    "    eval_function_model.add_or_get_eval_function(\n",
    "        EvalFunctionType(\n",
    "            name=\"ragas-answer-relevancy\", \n",
    "            description=\"Ragas - Answer Relevancy\",\n",
    "            eval_function=eval_ragas_answer_relevancy)\n",
    "    ),\n",
    "    eval_function_model.add_or_get_eval_function(\n",
    "        EvalFunctionType(\n",
    "            name=\"ragas-faithfulness\", \n",
    "            description=\"Ragas - Faithfulness\",\n",
    "            eval_function=eval_ragas_faithfulness)\n",
    "    )\n",
    "]\n",
    "\n",
    "print(f\"Eval Function: {[e.id for e in eval_function_list]}\")"
   ]
  },
  {
   "cell_type": "markdown",
   "metadata": {},
   "source": [
    "## - Assign Evaluation Functions to a Test Run"
   ]
  },
  {
   "cell_type": "code",
   "execution_count": null,
   "metadata": {},
   "outputs": [],
   "source": [
    "# Create a Test Eval Config to assign Test Evals to the Test Run\n",
    "from packages.data.src.eval_data.models.testevalconfig import TestEvalConfigModel, TestEvalConfigType\n",
    "from typing import List\n",
    "\n",
    "test_eval_config_model = TestEvalConfigModel(db_connection)\n",
    "test_eval_list: List[TestEvalConfigType] = test_eval_config_model.get_test_eval_configs_by_test_run_id(test_run.id)\n",
    "\n",
    "# TODO: Resume an exising eval run\n",
    "for eval_function in eval_function_list:\n",
    "    if eval_function.id not in [test_eval.eval_function_id for test_eval in test_eval_list]:\n",
    "        test_eval_config = TestEvalConfigType(test_run_id=test_run.id, eval_function_id=eval_function.id)\n",
    "        test_eval_config.id = test_eval_config_model.add_test_eval_config(test_eval_config)\n",
    "        test_eval_list.append(test_eval_config)\n",
    "        print(f\"Added Test Eval Config: {test_eval_config.id}\")\n",
    "    else:\n",
    "        print(f\"Eval Function already assigned to Test Run: {eval_function.id}\")"
   ]
  },
  {
   "cell_type": "markdown",
   "metadata": {},
   "source": [
    "## - Run the evaluation Functions on all Responses and Contexts"
   ]
  },
  {
   "cell_type": "code",
   "execution_count": null,
   "metadata": {},
   "outputs": [],
   "source": [
    "import nest_asyncio\n",
    "nest_asyncio.apply()\n",
    "\n",
    "# Get all responses\n",
    "from packages.data.src.eval_data.models.response import ResponseModel\n",
    "from packages.data.src.eval_data.models.question import QuestionModel\n",
    "from packages.data.src.eval_data.models.context import ContextModel\n",
    "from packages.data.src.eval_data.models.responseeval import ResponseEvalModel, ResponseEvalType\n",
    "\n",
    "from pandas import DataFrame\n",
    "\n",
    "question_model = QuestionModel(db_connection)\n",
    "context_model = ContextModel(db_connection)\n",
    "response_model = ResponseModel(db_connection)\n",
    "response_eval_model = ResponseEvalModel(db_connection)\n",
    "\n",
    "responses = response_model.get_responses_by_test_run_id(test_run.id)\n",
    "response_evals = response_eval_model.get_response_evals_by_test_run_id(test_run.id)\n",
    "\n",
    "# filter out responses that have already been evaluated\n",
    "response_ids = [r.response_id for r in response_evals]\n",
    "responses_trimed = [r for r in responses if r.id not in response_ids]\n",
    "count_skipped = len(responses) - len(responses_trimed)\n",
    "\n",
    "for i, r in enumerate(responses_trimed):\n",
    "    print(f\"Processing Response {i+count_skipped+1}/{len(responses)}\")\n",
    "\n",
    "    question = question_model.get_question_by_id(r.question_id)\n",
    "    context = context_model.get_contexts_by_response_id(response_id=r.id)\n",
    "    evals = response_eval_model.get_response_evals_by_response_id(response_id=r.id)\n",
    "\n",
    "    # Skip evals that were done\n",
    "    test_eval_ids = [e.test_eval_config_id for e in evals]\n",
    "    test_eval_list_trimed = [e for e in test_eval_list if e.id not in test_eval_ids]\n",
    "    for test_eval in test_eval_list_trimed:\n",
    "        func = eval_function_model.get_eval_function_by_id(test_eval.eval_function_id).eval_function\n",
    "        eval_result: float = func(\n",
    "            questions=[question.question],\n",
    "            answers=[r.response],\n",
    "            ground_truths=[question.answer],\n",
    "            contexts=[[c.text for c in context]]\n",
    "        )\n",
    "        response_eval_model.add_response_eval(\n",
    "            ResponseEvalType(\n",
    "                test_run_id=test_run.id,\n",
    "                question_id=question.id,\n",
    "                response_id=r.id,\n",
    "                test_eval_config_id=test_eval.id,\n",
    "                eval_score=eval_result if eval_result is not None else 0\n",
    "            )\n",
    "        )\n",
    "    "
   ]
  },
  {
   "cell_type": "code",
   "execution_count": null,
   "metadata": {},
   "outputs": [],
   "source": []
  }
 ],
 "metadata": {
  "kernelspec": {
   "display_name": "venv",
   "language": "python",
   "name": "python3"
  },
  "language_info": {
   "codemirror_mode": {
    "name": "ipython",
    "version": 3
   },
   "file_extension": ".py",
   "mimetype": "text/x-python",
   "name": "python",
   "nbconvert_exporter": "python",
   "pygments_lexer": "ipython3",
   "version": "3.11.6"
  }
 },
 "nbformat": 4,
 "nbformat_minor": 2
}

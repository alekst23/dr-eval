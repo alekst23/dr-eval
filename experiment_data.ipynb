{
 "cells": [
  {
   "cell_type": "markdown",
   "metadata": {},
   "source": [
    "# Experiment Notebook - Data\n",
    "These Jupyter notebooks demonstrate how to use our data models to run experiments effectively.\n",
    "\n",
    "This notebook will illustrate how to set up Datasources, Questions, and Correct Answers, for running experiments.\n"
   ]
  },
  {
   "cell_type": "code",
   "execution_count": null,
   "metadata": {},
   "outputs": [],
   "source": [
    "import sqlite3\n",
    "# Create a connection to the database\n",
    "db_connection = sqlite3.connect('experiment.db')\n"
   ]
  },
  {
   "cell_type": "markdown",
   "metadata": {},
   "source": [
    "## 1. Initialization of Datasources\n",
    "Here we initialize each datasource with example data."
   ]
  },
  {
   "cell_type": "code",
   "execution_count": null,
   "metadata": {},
   "outputs": [],
   "source": [
    "# Import necessary libraries\n",
    "from eval_data.models.datasource import DatasourceModel, DatasourceType\n",
    "\n",
    "# Create an instance of DatasourceModel\n",
    "datasource_model = DatasourceModel(db_connection)\n",
    "\n",
    "# Example data for datasource initialization, adapted from experiment.ipynb\n",
    "datasource = DatasourceType(name=\"BioASQ\", description=\"Manually curated set of biomedical Documents, Questions, and Answers\")\n",
    "\n",
    "# Adding the datasource to the database\n",
    "datasource_id = datasource_model.add_datasource(datasource)\n",
    "print(f\"Datasource added with ID: {datasource_id}\")\n",
    "\n"
   ]
  },
  {
   "cell_type": "markdown",
   "metadata": {},
   "source": [
    "## 2. Document Handling\n",
    "Adding documents to the datasources using Hugging Face paths."
   ]
  },
  {
   "cell_type": "code",
   "execution_count": null,
   "metadata": {},
   "outputs": [],
   "source": [
    "# Import necessary libraries\n",
    "from eval_data.models.document import DocumentModel, DocumentType\n",
    "\n",
    "if 'datasource_id' not in globals():\n",
    "    datasource_id = 3\n",
    "\n",
    "# Create an instance of DocumentModel\n",
    "document_model = DocumentModel(db_connection)\n",
    "\n",
    "# Example documents to be added, using Hugging Face paths\n",
    "documents = [\n",
    "    DocumentType(name=\"BioASQ Document 1\", location=\"rag-datasets/rag-mini-bioasq;text-corpus\", datasource_id=1),\n",
    "]\n",
    "\n",
    "# Adding documents to the database\n",
    "for document in documents:\n",
    "    document_id = document_model.add_document(document)\n",
    "    print(f\"Document added with ID: {document_id}\")\n"
   ]
  },
  {
   "cell_type": "markdown",
   "metadata": {},
   "source": [
    "## 3. QASet Creation\n",
    "Establishing QA sets that contain questions and their correct answers linked to specific documents."
   ]
  },
  {
   "cell_type": "code",
   "execution_count": null,
   "metadata": {},
   "outputs": [],
   "source": [
    "# Import necessary libraries\n",
    "from eval_data.models.qaset import QASetModel, QASetType\n",
    "\n",
    "if 'datasource_id' not in globals():\n",
    "    datasource_id = 1\n",
    "if 'document_id' not in globals():\n",
    "    document_id = 1\n",
    "\n",
    "# Create an instance of QASetModel\n",
    "qaset_model = QASetModel(db_connection)\n",
    "\n",
    "# Create a QASetType instance\n",
    "qaset = QASetType(\n",
    "    datasource_id=datasource_id,\n",
    "    document_id=document_id,\n",
    "    name=\"BioASQ QA Set\",\n",
    "    location=\"rag-datasets/rag-mini-bioasq;question-answer-passages\",\n",
    ")\n",
    "\n",
    "# Adding the QA set to the database\n",
    "qaset_id = qaset_model.add_qaset(qaset)\n",
    "print(f\"QA Set added with ID: {qaset_id}\")\n"
   ]
  },
  {
   "cell_type": "markdown",
   "metadata": {},
   "source": [
    "## 4. Question Generation\n",
    "Generating or loading questions from a QASet source."
   ]
  },
  {
   "cell_type": "code",
   "execution_count": null,
   "metadata": {},
   "outputs": [],
   "source": [
    "from datasets import load_dataset\n",
    "from eval_data.models.qaset import QASetModel, QASetType\n",
    "from eval_data.models.question import QuestionModel, QuestionType\n",
    "\n",
    "if 'datasource_id' not in globals():\n",
    "    datasource_id = 1\n",
    "if 'document_id' not in globals():\n",
    "    document_id = 1\n",
    "if 'qaset_id' not in globals():\n",
    "    qaset_id = 1\n",
    "\n",
    "# Create an instance of QASetModel\n",
    "qaset_model = QASetModel(db_connection)\n",
    "qaset = qaset_model.get_qaset_by_id(qaset_id)\n",
    "\n",
    "# Load the QA dataset\n",
    "path, name = qaset.location.split(\";\")\n",
    "dataset = load_dataset(path, name)['test']\n",
    "\n",
    "test_questions = dataset[\"question\"]\n",
    "if \"ground_truth\" in dataset.column_names:\n",
    "    test_answers = dataset[\"ground_truth\"]\n",
    "else:\n",
    "    test_answers = dataset[\"answer\"]\n",
    "\n",
    "print(f\"Loaded {len(test_questions)} questions\")\n",
    "print(f\"Loaded {len(test_answers)} answers\")\n",
    "\n",
    "\n",
    "# Save the questions and answers to the database\n",
    "question_model = QuestionModel(db_connection)\n",
    "for question, answer in zip(test_questions, test_answers):\n",
    "    question = QuestionType(\n",
    "        qaset_id=qaset_id,\n",
    "        document_id=document_id,\n",
    "        question=question,\n",
    "        answer=answer,\n",
    "    )\n",
    "    question_id = question_model.add_question(question)\n",
    "    print(f\"Question added with ID: {question_id}\")\n"
   ]
  }
 ],
 "metadata": {
  "kernelspec": {
   "display_name": "Python 3",
   "language": "python",
   "name": "python3"
  },
  "language_info": {
   "codemirror_mode": {
    "name": "ipython",
    "version": 3
   },
   "file_extension": ".py",
   "mimetype": "text/x-python",
   "name": "python",
   "nbconvert_exporter": "python",
   "pygments_lexer": "ipython3",
   "version": "3.11.6"
  }
 },
 "nbformat": 4,
 "nbformat_minor": 2
}

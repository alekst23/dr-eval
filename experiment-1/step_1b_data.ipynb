{
 "cells": [
  {
   "cell_type": "markdown",
   "metadata": {},
   "source": [
    "# Experiment Notebook - Data\n",
    "These Jupyter notebooks demonstrate how to use our data models to run experiments effectively.\n",
    "\n",
    "This notebook will illustrate how to set up Datasources, Questions, and Correct Answers, for running experiments.\n"
   ]
  },
  {
   "cell_type": "code",
   "execution_count": 1,
   "metadata": {},
   "outputs": [],
   "source": [
    "import sqlite3\n",
    "# Create a connection to the database\n",
    "db_connection = sqlite3.connect('../experiment.db')\n"
   ]
  },
  {
   "cell_type": "markdown",
   "metadata": {},
   "source": [
    "## - Initialization of Datasources\n",
    "Here we initialize each datasource with example data."
   ]
  },
  {
   "cell_type": "code",
   "execution_count": 3,
   "metadata": {},
   "outputs": [
    {
     "name": "stdout",
     "output_type": "stream",
     "text": [
      "Datasource ID: 3\n"
     ]
    }
   ],
   "source": [
    "# Import necessary libraries\n",
    "from eval_data.models.datasource import DatasourceModel, DatasourceType\n",
    "\n",
    "# Example data for datasource initialization, adapted from experiment.ipynb\n",
    "datasource = DatasourceModel(db_connection).add_or_get_datasource(\n",
    "    DatasourceType(name=\"WikiQA\", description=\"Wiki data\")\n",
    ")\n",
    "print(f\"Datasource ID: {datasource.id}\")\n",
    "\n"
   ]
  },
  {
   "cell_type": "markdown",
   "metadata": {},
   "source": [
    "## - Document Handling\n",
    "Adding documents to the datasources using Hugging Face paths."
   ]
  },
  {
   "cell_type": "code",
   "execution_count": 4,
   "metadata": {},
   "outputs": [
    {
     "name": "stdout",
     "output_type": "stream",
     "text": [
      "Document ID: 2\n"
     ]
    }
   ],
   "source": [
    "# Import necessary libraries\n",
    "from eval_data.models.document import DocumentModel, DocumentType\n",
    "\n",
    "# Create an instance of DocumentModel\n",
    "document_model = DocumentModel(db_connection)\n",
    "\n",
    "# Example documents to be added, using Hugging Face paths\n",
    "document = document_model.add_or_get_document(\n",
    "    DocumentType(name=\"Ragas Wiki QA\", location=\"explodinggradients/ragas-wikiqa\", col_text=\"context\", col_id=\"question_id\", datasource_id=datasource.id)\n",
    ")\n",
    "\n",
    "print(f\"Document ID: {document.id}\")\n"
   ]
  },
  {
   "cell_type": "markdown",
   "metadata": {},
   "source": [
    "## - QASet Creation\n",
    "Establishing QA sets that contain questions and their correct answers linked to specific documents."
   ]
  },
  {
   "cell_type": "code",
   "execution_count": null,
   "metadata": {},
   "outputs": [],
   "source": [
    "# Import necessary libraries\n",
    "from eval_data.models.qaset import QASetModel, QASetType\n",
    "\n",
    "# Create a QA Set\n",
    "qaset = QASetModel(db_connection).add_or_get_qaset(\n",
    "    QASetType(\n",
    "        datasource_id=datasource.id,\n",
    "        document_id=document.id,\n",
    "        name=\"Ragas Wiki QA\",\n",
    "        location=\"explodinggradients/ragas-wikiqa\",\n",
    "        col_question=\"questions\",\n",
    "        col_answer=\"correct_answer\",\n",
    "    )\n",
    ")\n",
    "print(f\"QA Set ID: {qaset.id}\")\n"
   ]
  },
  {
   "cell_type": "markdown",
   "metadata": {},
   "source": [
    "## - Question Generation\n",
    "Generating or loading questions from a QASet source."
   ]
  },
  {
   "cell_type": "code",
   "execution_count": null,
   "metadata": {},
   "outputs": [],
   "source": [
    "from eval_scripts.hface import load_qa_dataset\n",
    "from eval_data.tools import save_question_answers\n",
    "\n",
    "# Load the questions and answers from the huggingface dataset\n",
    "test_questions, test_answers = load_qa_dataset(qaset)\n",
    "print(f\"Loaded {len(test_questions)} questions\")\n",
    "print(f\"Loaded {len(test_answers)} answers\")\n",
    "\n",
    "# Save the questions and answers to the database\n",
    "count_new, count_existing = save_question_answers(\n",
    "    db_connection, test_questions, test_answers, qaset\n",
    ")\n",
    "print(f\"Added {count_new} questions\")\n",
    "print(f\"Skipped {count_existing} existing questions\")\n"
   ]
  }
 ],
 "metadata": {
  "kernelspec": {
   "display_name": "Python 3",
   "language": "python",
   "name": "python3"
  },
  "language_info": {
   "codemirror_mode": {
    "name": "ipython",
    "version": 3
   },
   "file_extension": ".py",
   "mimetype": "text/x-python",
   "name": "python",
   "nbconvert_exporter": "python",
   "pygments_lexer": "ipython3",
   "version": "3.12.6"
  }
 },
 "nbformat": 4,
 "nbformat_minor": 2
}

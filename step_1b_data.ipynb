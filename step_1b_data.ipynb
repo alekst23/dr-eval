{
 "cells": [
  {
   "cell_type": "markdown",
   "metadata": {},
   "source": [
    "# Experiment Notebook - Data\n",
    "These Jupyter notebooks demonstrate how to use our data models to run experiments effectively.\n",
    "\n",
    "This notebook will illustrate how to set up Datasources, Questions, and Correct Answers, for running experiments.\n"
   ]
  },
  {
   "cell_type": "code",
   "execution_count": 1,
   "metadata": {},
   "outputs": [],
   "source": [
    "import sqlite3\n",
    "# Create a connection to the database\n",
    "db_connection = sqlite3.connect('experiment.db')\n"
   ]
  },
  {
   "cell_type": "markdown",
   "metadata": {},
   "source": [
    "## 1. Initialization of Datasources\n",
    "Here we initialize each datasource with example data."
   ]
  },
  {
   "cell_type": "code",
   "execution_count": null,
   "metadata": {},
   "outputs": [],
   "source": [
    "# Import necessary libraries\n",
    "from eval_data.models.datasource import DatasourceModel, DatasourceType\n",
    "\n",
    "# Example data for datasource initialization, adapted from experiment.ipynb\n",
    "datasource = DatasourceModel(db_connection).add_or_get_datasource(\n",
    "    DatasourceType(name=\"BioASQ\", description=\"Manually curated set of biomedical Documents, Questions, and Answers\")\n",
    ")\n",
    "print(f\"Datasource ID: {datasource.id}\")\n",
    "\n"
   ]
  },
  {
   "cell_type": "markdown",
   "metadata": {},
   "source": [
    "## 2. Document Handling\n",
    "Adding documents to the datasources using Hugging Face paths."
   ]
  },
  {
   "cell_type": "code",
   "execution_count": null,
   "metadata": {},
   "outputs": [],
   "source": [
    "# Import necessary libraries\n",
    "from eval_data.models.document import DocumentModel, DocumentType\n",
    "\n",
    "# Create an instance of DocumentModel\n",
    "document_model = DocumentModel(db_connection)\n",
    "\n",
    "# Example documents to be added, using Hugging Face paths\n",
    "document = document_model.add_or_get_document(\n",
    "    DocumentType(name=\"BioASQ Document 1\", location=\"rag-datasets/rag-mini-bioasq;text-corpus\", datasource_id=1)\n",
    ")\n",
    "\n",
    "print(f\"Document ID: {document.id}\")\n"
   ]
  },
  {
   "cell_type": "markdown",
   "metadata": {},
   "source": [
    "## 3. QASet Creation\n",
    "Establishing QA sets that contain questions and their correct answers linked to specific documents."
   ]
  },
  {
   "cell_type": "code",
   "execution_count": null,
   "metadata": {},
   "outputs": [],
   "source": [
    "# Import necessary libraries\n",
    "from eval_data.models.qaset import QASetModel, QASetType\n",
    "\n",
    "# Create a QA Set\n",
    "qaset = QASetModel(db_connection).add_or_get_qaset(\n",
    "    QASetType(\n",
    "        datasource_id=datasource.id,\n",
    "        document_id=document.id,\n",
    "        name=\"BioASQ QA Set\",\n",
    "        location=\"rag-datasets/rag-mini-bioasq;question-answer-passages\",\n",
    "    )\n",
    ")\n",
    "print(f\"QA Set ID: {qaset.id}\")\n"
   ]
  },
  {
   "cell_type": "markdown",
   "metadata": {},
   "source": [
    "## 4. Question Generation\n",
    "Generating or loading questions from a QASet source."
   ]
  },
  {
   "cell_type": "code",
   "execution_count": null,
   "metadata": {},
   "outputs": [],
   "source": [
    "from datasets import load_dataset\n",
    "from eval_data.models.qaset import QASetModel, QASetType\n",
    "from eval_data.models.question import QuestionModel, QuestionType\n",
    "\n",
    "# Load the QA dataset\n",
    "path, name = qaset.location.split(\";\")\n",
    "dataset = load_dataset(path, name)['test']\n",
    "\n",
    "test_questions = dataset[\"question\"]\n",
    "if \"ground_truth\" in dataset.column_names:\n",
    "    test_answers = dataset[\"ground_truth\"]\n",
    "else:\n",
    "    test_answers = dataset[\"answer\"]\n",
    "\n",
    "print(f\"Loaded {len(test_questions)} questions\")\n",
    "print(f\"Loaded {len(test_answers)} answers\")\n",
    "\n",
    "\n",
    "# Save the questions and answers to the database\n",
    "question_model = QuestionModel(db_connection)\n",
    "existing_questions = [ q.question for q in question_model.get_questions_by_qaset_id(qaset.id) ]\n",
    "count_skipped = 0\n",
    "count_added = 0\n",
    "for question, answer in zip(test_questions, test_answers):\n",
    "    if not question or question in existing_questions:\n",
    "        count_skipped += 1\n",
    "        continue\n",
    "\n",
    "    question = QuestionType(\n",
    "        qaset_id=qaset.id,\n",
    "        document_id=document.id,\n",
    "        question=question,\n",
    "        answer=answer,\n",
    "    )\n",
    "    question_id = question_model.add_question(question)\n",
    "    count_added += 1\n",
    "\n",
    "print(f\"Added {count_added} questions\")\n",
    "print(f\"Skipped {count_skipped} existing questions\")\n"
   ]
  }
 ],
 "metadata": {
  "kernelspec": {
   "display_name": "Python 3",
   "language": "python",
   "name": "python3"
  },
  "language_info": {
   "codemirror_mode": {
    "name": "ipython",
    "version": 3
   },
   "file_extension": ".py",
   "mimetype": "text/x-python",
   "name": "python",
   "nbconvert_exporter": "python",
   "pygments_lexer": "ipython3",
   "version": "3.12.6"
  }
 },
 "nbformat": 4,
 "nbformat_minor": 2
}

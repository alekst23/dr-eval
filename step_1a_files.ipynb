{
 "cells": [
  {
   "cell_type": "markdown",
   "metadata": {},
   "source": [
    "## Experiment Notebook - Data from files\n",
    "\n",
    "This notebook will illustrate how to use a file as a Datasource"
   ]
  },
  {
   "cell_type": "code",
   "execution_count": 1,
   "metadata": {},
   "outputs": [],
   "source": [
    "import sqlite3\n",
    "# Create a connection to the database\n",
    "db_connection = sqlite3.connect('experiment.db')\n"
   ]
  },
  {
   "cell_type": "markdown",
   "metadata": {},
   "source": [
    "## 1. Initialization of Datasources\n",
    "Here we initialize each datasource with example data."
   ]
  },
  {
   "cell_type": "code",
   "execution_count": 2,
   "metadata": {},
   "outputs": [
    {
     "name": "stdout",
     "output_type": "stream",
     "text": [
      "Datasource sample-financial-data created - ID: 2\n"
     ]
    }
   ],
   "source": [
    "# Import necessary libraries\n",
    "from packages.data.src.eval_data.models.datasource import DatasourceModel, DatasourceType\n",
    "\n",
    "# Create an instance of DatasourceModel\n",
    "datasource_name = \"sample-financial-data\"\n",
    "if datasource := DatasourceModel(db_connection).get_datasource_by_name(datasource_name):\n",
    "    print(f\"Datasource {datasource_name} loaded - ID: {datasource.id}\")\n",
    "else:\n",
    "    datasource = DatasourceType(name=datasource_name, description=\"Sample financial data in PDF format\")\n",
    "    datasource.id = DatasourceModel(db_connection).add_datasource(datasource)\n",
    "    print(f\"Datasource {datasource_name} created - ID: {datasource.id}\")\n"
   ]
  },
  {
   "cell_type": "markdown",
   "metadata": {},
   "source": [
    "## 2. Read files into documents\n",
    "\n"
   ]
  },
  {
   "cell_type": "code",
   "execution_count": 3,
   "metadata": {},
   "outputs": [
    {
     "ename": "ModuleNotFoundError",
     "evalue": "No module named 'documents'",
     "output_type": "error",
     "traceback": [
      "\u001b[0;31m---------------------------------------------------------------------------\u001b[0m",
      "\u001b[0;31mModuleNotFoundError\u001b[0m                       Traceback (most recent call last)",
      "Cell \u001b[0;32mIn[3], line 4\u001b[0m\n\u001b[1;32m      1\u001b[0m \u001b[38;5;28;01mfrom\u001b[39;00m \u001b[38;5;21;01mllama_index\u001b[39;00m\u001b[38;5;21;01m.\u001b[39;00m\u001b[38;5;21;01mcore\u001b[39;00m\u001b[38;5;21;01m.\u001b[39;00m\u001b[38;5;21;01mschema\u001b[39;00m \u001b[38;5;28;01mimport\u001b[39;00m Document\n\u001b[1;32m      2\u001b[0m \u001b[38;5;28;01mfrom\u001b[39;00m \u001b[38;5;21;01mtyping\u001b[39;00m \u001b[38;5;28;01mimport\u001b[39;00m List\n\u001b[0;32m----> 4\u001b[0m \u001b[38;5;28;01mfrom\u001b[39;00m \u001b[38;5;21;01mdocuments\u001b[39;00m \u001b[38;5;28;01mimport\u001b[39;00m load_documents_from_path, save_documents_to_db\n\u001b[1;32m      6\u001b[0m \u001b[38;5;66;03m# We will load all pdf documents in the following directory\u001b[39;00m\n\u001b[1;32m      7\u001b[0m DATA_PATH \u001b[38;5;241m=\u001b[39m \u001b[38;5;124m\"\u001b[39m\u001b[38;5;124mdatasets/fin\u001b[39m\u001b[38;5;124m\"\u001b[39m\n",
      "\u001b[0;31mModuleNotFoundError\u001b[0m: No module named 'documents'"
     ]
    }
   ],
   "source": [
    "from llama_index.core.schema import Document\n",
    "from typing import List\n",
    "\n",
    "from eval_scripts.documents import load_documents_from_path, save_documents_to_db\n",
    "\n",
    "# We will load all pdf documents in the following directory\n",
    "DATA_PATH = \"datasets/fin\"\n",
    "\n",
    "print(f\"Loading documents from {DATA_PATH}...\")\n",
    "documents: List[Document] = load_documents_from_path(DATA_PATH)\n",
    "print(f\"Number of documents loaded from {DATA_PATH}: {len(documents)}\")\n"
   ]
  },
  {
   "cell_type": "markdown",
   "metadata": {},
   "source": [
    "# 3. Make Question-Answer set\n",
    "Generate Questions and Correct Answers from the loaded Documents"
   ]
  },
  {
   "cell_type": "markdown",
   "metadata": {},
   "source": [
    "# Add Questions and Answers\n"
   ]
  },
  {
   "cell_type": "code",
   "execution_count": null,
   "metadata": {},
   "outputs": [],
   "source": [
    "#!pip install nest_asyncio"
   ]
  },
  {
   "cell_type": "code",
   "execution_count": null,
   "metadata": {},
   "outputs": [],
   "source": [
    "import nest_asyncio\n",
    "nest_asyncio.apply()\n",
    "\n",
    "from datasets import Dataset\n",
    "\n",
    "from eval_scripts.generator import generate_testset\n",
    "from eval_scripts.database import add_or_get_document, add_or_get_qaset\n",
    "\n",
    "from eval_data.models.question import QuestionModel, QuestionType\n",
    "from eval_data.models.document import DocumentModel, DocumentType\n",
    "\n",
    "\n",
    "\n",
    "question_model = QuestionModel(db_connection)\n",
    "print(f\"Processing {len(documents)} documents\")\n",
    "for doc in documents:\n",
    "    print(f\"Processing Document ID: {doc.id_}\")\n",
    "\n",
    "    # Get or Create the Document\n",
    "    document = add_or_get_document(db_connection, doc, datasource.id)\n",
    "    \n",
    "    qaset = add_or_get_qaset(db_connection, doc, datasource.id, document.id)\n",
    "\n",
    "    # Generate the actual QA Set data\n",
    "    qa_dataset: Dataset = generate_testset([doc], test_size=5)\n",
    "    try:\n",
    "        questions = qa_dataset[\"question\"]\n",
    "        answers = qa_dataset[\"ground_truth\"]\n",
    "        print(f\"Number of questions: {len(questions)}\")\n",
    "        print(f\"Number of answers: {len(answers)}\")\n",
    "    except KeyError:\n",
    "        print(\"No questions and answers generated\")\n",
    "        print(qa_dataset.column_names)\n",
    "        continue\n",
    "\n",
    "    # Save the questions and answers to the database\n",
    "    for question, answer in zip(questions, answers):\n",
    "        question = QuestionType(\n",
    "            qaset_id=qaset.id,\n",
    "            document_id=document.id,\n",
    "            question=question,\n",
    "            answer=answer,\n",
    "        )\n",
    "        question_id = question_model.add_question(question)\n",
    "        print(f\"Question added with ID: {question_id}\")"
   ]
  }
 ],
 "metadata": {
  "kernelspec": {
   "display_name": "venv",
   "language": "python",
   "name": "python3"
  },
  "language_info": {
   "codemirror_mode": {
    "name": "ipython",
    "version": 3
   },
   "file_extension": ".py",
   "mimetype": "text/x-python",
   "name": "python",
   "nbconvert_exporter": "python",
   "pygments_lexer": "ipython3",
   "version": "3.12.6"
  }
 },
 "nbformat": 4,
 "nbformat_minor": 2
}
